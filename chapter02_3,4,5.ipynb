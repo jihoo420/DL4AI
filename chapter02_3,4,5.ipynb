{
  "cells": [
    {
      "cell_type": "markdown",
      "metadata": {
        "id": "XjjxuOWuIKmd"
      },
      "source": [
        "This is a companion notebook for the book [Deep Learning with Python, Second Edition](https://www.manning.com/books/deep-learning-with-python-second-edition?a_aid=keras&a_bid=76564dff). For readability, it only contains runnable code blocks and section titles, and omits everything else in the book: text paragraphs, figures, and pseudocode.\n",
        "\n",
        "**If you want to be able to follow what's going on, I recommend reading the notebook side by side with your copy of the book.**\n",
        "\n",
        "This notebook was generated for TensorFlow 2.6."
      ]
    },
    {
      "cell_type": "markdown",
      "metadata": {
        "id": "T6a5i5qQIKml"
      },
      "source": [
        "# The mathematical building blocks of neural networks"
      ]
    },
    {
      "cell_type": "markdown",
      "metadata": {
        "id": "oy6-Wx0zIKmm"
      },
      "source": [
        "## A first look at a neural network"
      ]
    },
    {
      "cell_type": "markdown",
      "metadata": {
        "id": "ogs2e9VrIKmn"
      },
      "source": [
        "**Loading the MNIST dataset in Keras**"
      ]
    },
    {
      "cell_type": "code",
      "execution_count": 43,
      "metadata": {
        "id": "9F7mSVhNIKmo",
        "outputId": "0e1bfabf-52d0-4a8e-8c67-8b0d2022bad5",
        "colab": {
          "base_uri": "https://localhost:8080/"
        }
      },
      "outputs": [
        {
          "output_type": "stream",
          "name": "stdout",
          "text": [
            "Downloading data from https://storage.googleapis.com/tensorflow/tf-keras-datasets/mnist.npz\n",
            "11490434/11490434 [==============================] - 0s 0us/step\n"
          ]
        }
      ],
      "source": [
        "from tensorflow.keras.datasets import mnist\n",
        "(train_images, train_labels), (test_images, test_labels) = mnist.load_data()"
      ]
    },
    {
      "cell_type": "code",
      "execution_count": null,
      "metadata": {
        "id": "wy92fCsKIKmq"
      },
      "outputs": [],
      "source": [
        "train_images.shape"
      ]
    },
    {
      "cell_type": "code",
      "execution_count": null,
      "metadata": {
        "id": "q8-pAKpxIKmr"
      },
      "outputs": [],
      "source": [
        "len(train_labels)"
      ]
    },
    {
      "cell_type": "code",
      "execution_count": null,
      "metadata": {
        "id": "eFRkiJJZIKmr"
      },
      "outputs": [],
      "source": [
        "train_labels"
      ]
    },
    {
      "cell_type": "code",
      "execution_count": null,
      "metadata": {
        "id": "yAefJkxtIKms"
      },
      "outputs": [],
      "source": [
        "test_images.shape"
      ]
    },
    {
      "cell_type": "code",
      "execution_count": null,
      "metadata": {
        "id": "0s--GOpBIKms"
      },
      "outputs": [],
      "source": [
        "len(test_labels)"
      ]
    },
    {
      "cell_type": "code",
      "execution_count": null,
      "metadata": {
        "id": "6XZUMge-IKms"
      },
      "outputs": [],
      "source": [
        "test_labels"
      ]
    },
    {
      "cell_type": "markdown",
      "metadata": {
        "id": "V5wg0BnxIKmt"
      },
      "source": [
        "**The network architecture**"
      ]
    },
    {
      "cell_type": "code",
      "execution_count": 50,
      "metadata": {
        "id": "z4keL9gxIKmt"
      },
      "outputs": [],
      "source": [
        "from tensorflow import keras\n",
        "from tensorflow.keras import layers\n",
        "model = keras.Sequential([\n",
        "    layers.Dense(512, activation=\"relu\"),\n",
        "    layers.Dense(10, activation=\"softmax\")\n",
        "])"
      ]
    },
    {
      "cell_type": "markdown",
      "metadata": {
        "id": "0yZd9lFQIKmt"
      },
      "source": [
        "**The compilation step**"
      ]
    },
    {
      "cell_type": "code",
      "execution_count": null,
      "metadata": {
        "id": "m_jeGsLMIKmt"
      },
      "outputs": [],
      "source": [
        "model.compile(optimizer=\"rmsprop\",\n",
        "              loss=\"sparse_categorical_crossentropy\",\n",
        "              metrics=[\"accuracy\"])"
      ]
    },
    {
      "cell_type": "markdown",
      "metadata": {
        "id": "GDb9yXnnIKmu"
      },
      "source": [
        "**Preparing the image data**"
      ]
    },
    {
      "cell_type": "code",
      "execution_count": null,
      "metadata": {
        "id": "azL7M_oXIKmu"
      },
      "outputs": [],
      "source": [
        "train_images = train_images.reshape((60000, 28 * 28))\n",
        "train_images = train_images.astype(\"float32\") / 255\n",
        "test_images = test_images.reshape((10000, 28 * 28))\n",
        "test_images = test_images.astype(\"float32\") / 255"
      ]
    },
    {
      "cell_type": "markdown",
      "metadata": {
        "id": "xMwAMXqaIKmv"
      },
      "source": [
        "**\"Fitting\" the model**"
      ]
    },
    {
      "cell_type": "code",
      "execution_count": null,
      "metadata": {
        "id": "RcROZALPIKmv"
      },
      "outputs": [],
      "source": [
        "model.fit(train_images, train_labels, epochs=5, batch_size=128)"
      ]
    },
    {
      "cell_type": "markdown",
      "metadata": {
        "id": "XtoW61rEIKmv"
      },
      "source": [
        "**Using the model to make predictions**"
      ]
    },
    {
      "cell_type": "code",
      "execution_count": null,
      "metadata": {
        "id": "g-1-V0dRIKmw"
      },
      "outputs": [],
      "source": [
        "test_digits = test_images[0:10]\n",
        "predictions = model.predict(test_digits)\n",
        "predictions[0]"
      ]
    },
    {
      "cell_type": "code",
      "execution_count": null,
      "metadata": {
        "id": "oP6VYBzwIKmw"
      },
      "outputs": [],
      "source": [
        "predictions[0].argmax()"
      ]
    },
    {
      "cell_type": "code",
      "execution_count": null,
      "metadata": {
        "id": "xSADKTJyIKmw"
      },
      "outputs": [],
      "source": [
        "predictions[0][7]"
      ]
    },
    {
      "cell_type": "code",
      "execution_count": null,
      "metadata": {
        "id": "-PpRkPhoIKmw"
      },
      "outputs": [],
      "source": [
        "test_labels[0]"
      ]
    },
    {
      "cell_type": "markdown",
      "metadata": {
        "id": "xnpOaxcAIKmw"
      },
      "source": [
        "**Evaluating the model on new data**"
      ]
    },
    {
      "cell_type": "code",
      "execution_count": null,
      "metadata": {
        "id": "rkD5ycn9IKmx"
      },
      "outputs": [],
      "source": [
        "test_loss, test_acc = model.evaluate(test_images, test_labels)\n",
        "print(f\"test_acc: {test_acc}\")"
      ]
    },
    {
      "cell_type": "markdown",
      "metadata": {
        "id": "RxLmADk4IKmx"
      },
      "source": [
        "## Data representations for neural networks"
      ]
    },
    {
      "cell_type": "markdown",
      "metadata": {
        "id": "fC-HPw--IKmx"
      },
      "source": [
        "### Scalars (rank-0 tensors)"
      ]
    },
    {
      "cell_type": "code",
      "execution_count": null,
      "metadata": {
        "id": "xYqKj0FqIKmx"
      },
      "outputs": [],
      "source": [
        "import numpy as np\n",
        "x = np.array(12)\n",
        "x"
      ]
    },
    {
      "cell_type": "code",
      "execution_count": null,
      "metadata": {
        "id": "Jk2wOa7RIKmy"
      },
      "outputs": [],
      "source": [
        "x.ndim"
      ]
    },
    {
      "cell_type": "markdown",
      "metadata": {
        "id": "xV9Ot_ZZIKmy"
      },
      "source": [
        "### Vectors (rank-1 tensors)"
      ]
    },
    {
      "cell_type": "code",
      "execution_count": null,
      "metadata": {
        "id": "DsYZaJvXIKmy"
      },
      "outputs": [],
      "source": [
        "x = np.array([12, 3, 6, 14, 7])\n",
        "x"
      ]
    },
    {
      "cell_type": "code",
      "execution_count": null,
      "metadata": {
        "id": "UGxIZfmHIKmy"
      },
      "outputs": [],
      "source": [
        "x.ndim"
      ]
    },
    {
      "cell_type": "markdown",
      "metadata": {
        "id": "qGVw3urDIKmz"
      },
      "source": [
        "### Matrices (rank-2 tensors)"
      ]
    },
    {
      "cell_type": "code",
      "execution_count": null,
      "metadata": {
        "id": "RpEFlOzCIKmz"
      },
      "outputs": [],
      "source": [
        "x = np.array([[5, 78, 2, 34, 0],\n",
        "              [6, 79, 3, 35, 1],\n",
        "              [7, 80, 4, 36, 2]])\n",
        "x.ndim"
      ]
    },
    {
      "cell_type": "markdown",
      "metadata": {
        "id": "4HUtVdpnIKmz"
      },
      "source": [
        "### Rank-3 and higher-rank tensors"
      ]
    },
    {
      "cell_type": "code",
      "execution_count": null,
      "metadata": {
        "id": "DrX3fn52IKmz"
      },
      "outputs": [],
      "source": [
        "x = np.array([[[5, 78, 2, 34, 0],\n",
        "               [6, 79, 3, 35, 1],\n",
        "               [7, 80, 4, 36, 2]],\n",
        "              [[5, 78, 2, 34, 0],\n",
        "               [6, 79, 3, 35, 1],\n",
        "               [7, 80, 4, 36, 2]],\n",
        "              [[5, 78, 2, 34, 0],\n",
        "               [6, 79, 3, 35, 1],\n",
        "               [7, 80, 4, 36, 2]]])\n",
        "x.ndim"
      ]
    },
    {
      "cell_type": "markdown",
      "metadata": {
        "id": "dxIBlvbOIKm0"
      },
      "source": [
        "### Key attributes"
      ]
    },
    {
      "cell_type": "code",
      "execution_count": null,
      "metadata": {
        "id": "IAxQ97OHIKm0"
      },
      "outputs": [],
      "source": [
        "from tensorflow.keras.datasets import mnist\n",
        "(train_images, train_labels), (test_images, test_labels) = mnist.load_data()"
      ]
    },
    {
      "cell_type": "code",
      "execution_count": null,
      "metadata": {
        "id": "lErRzEx2IKm7"
      },
      "outputs": [],
      "source": [
        "train_images.ndim"
      ]
    },
    {
      "cell_type": "code",
      "execution_count": null,
      "metadata": {
        "id": "crhPBy2FIKm7"
      },
      "outputs": [],
      "source": [
        "train_images.shape"
      ]
    },
    {
      "cell_type": "code",
      "execution_count": null,
      "metadata": {
        "id": "WYUb4XldIKm7"
      },
      "outputs": [],
      "source": [
        "train_images.dtype"
      ]
    },
    {
      "cell_type": "markdown",
      "metadata": {
        "id": "I_t9wsQAIKm7"
      },
      "source": [
        "**Displaying the fourth digit**"
      ]
    },
    {
      "cell_type": "code",
      "execution_count": null,
      "metadata": {
        "id": "mvUnybRwIKm7"
      },
      "outputs": [],
      "source": [
        "import matplotlib.pyplot as plt\n",
        "digit = train_images[4]\n",
        "plt.imshow(digit, cmap=plt.cm.binary)\n",
        "plt.show()"
      ]
    },
    {
      "cell_type": "code",
      "execution_count": null,
      "metadata": {
        "id": "D00VTz9HIKm8"
      },
      "outputs": [],
      "source": [
        "train_labels[4]"
      ]
    },
    {
      "cell_type": "markdown",
      "metadata": {
        "id": "NS0iawyrIKm8"
      },
      "source": [
        "### Manipulating tensors in NumPy"
      ]
    },
    {
      "cell_type": "code",
      "execution_count": null,
      "metadata": {
        "id": "GQnwnociIKm8"
      },
      "outputs": [],
      "source": [
        "my_slice = train_images[10:100]\n",
        "my_slice.shape"
      ]
    },
    {
      "cell_type": "code",
      "execution_count": null,
      "metadata": {
        "id": "eSMmHCgyIKm8"
      },
      "outputs": [],
      "source": [
        "my_slice = train_images[10:100, :, :]\n",
        "my_slice.shape"
      ]
    },
    {
      "cell_type": "code",
      "execution_count": null,
      "metadata": {
        "id": "ybL3JdM-IKm8"
      },
      "outputs": [],
      "source": [
        "my_slice = train_images[10:100, 0:28, 0:28]\n",
        "my_slice.shape"
      ]
    },
    {
      "cell_type": "code",
      "execution_count": null,
      "metadata": {
        "id": "qHvkJ4gJIKm8"
      },
      "outputs": [],
      "source": [
        "my_slice = train_images[:, 14:, 14:]"
      ]
    },
    {
      "cell_type": "code",
      "execution_count": null,
      "metadata": {
        "id": "m9MLkP3HIKm8"
      },
      "outputs": [],
      "source": [
        "my_slice = train_images[:, 7:-7, 7:-7]"
      ]
    },
    {
      "cell_type": "markdown",
      "metadata": {
        "id": "28GuvSvXIKm9"
      },
      "source": [
        "### The notion of data batches"
      ]
    },
    {
      "cell_type": "code",
      "execution_count": null,
      "metadata": {
        "id": "poi4Wj-jIKm9"
      },
      "outputs": [],
      "source": [
        "batch = train_images[:128]"
      ]
    },
    {
      "cell_type": "code",
      "execution_count": null,
      "metadata": {
        "id": "TcSdN62HIKm9"
      },
      "outputs": [],
      "source": [
        "batch = train_images[128:256]"
      ]
    },
    {
      "cell_type": "code",
      "execution_count": null,
      "metadata": {
        "id": "lv2mr9-CIKm9"
      },
      "outputs": [],
      "source": [
        "n = 3\n",
        "batch = train_images[128 * n:128 * (n + 1)]"
      ]
    },
    {
      "cell_type": "markdown",
      "metadata": {
        "id": "tDMkwLLhIKm9"
      },
      "source": [
        "### Real-world examples of data tensors"
      ]
    },
    {
      "cell_type": "markdown",
      "metadata": {
        "id": "57vt0LjSIKm-"
      },
      "source": [
        "### Vector data"
      ]
    },
    {
      "cell_type": "markdown",
      "metadata": {
        "id": "ntCAm2mKIKm-"
      },
      "source": [
        "### Timeseries data or sequence data"
      ]
    },
    {
      "cell_type": "markdown",
      "metadata": {
        "id": "gXmcH-zwIKm-"
      },
      "source": [
        "### Image data"
      ]
    },
    {
      "cell_type": "markdown",
      "metadata": {
        "id": "fE4ZDNH3IKm-"
      },
      "source": [
        "### Video data"
      ]
    },
    {
      "cell_type": "markdown",
      "metadata": {
        "id": "BjBCupVgIKm_"
      },
      "source": [
        "## The gears of neural networks: tensor operations"
      ]
    },
    {
      "cell_type": "markdown",
      "metadata": {
        "id": "aMd-1oc5IKm_"
      },
      "source": [
        "### Element-wise operations"
      ]
    },
    {
      "cell_type": "code",
      "execution_count": 1,
      "metadata": {
        "id": "wS6X5Ys_IKnA"
      },
      "outputs": [],
      "source": [
        "def naive_relu(x):\n",
        "    assert len(x.shape) == 2\n",
        "    x = x.copy()\n",
        "    for i in range(x.shape[0]):\n",
        "        for j in range(x.shape[1]):\n",
        "            x[i, j] = max(x[i, j], 0)\n",
        "    return x"
      ]
    },
    {
      "cell_type": "code",
      "source": [
        "import numpy as np\n",
        "\n",
        "aa= np.array([[1,2,5,6],[4,7,8,5]])"
      ],
      "metadata": {
        "id": "5pwdg_J4JRqM"
      },
      "execution_count": 3,
      "outputs": []
    },
    {
      "cell_type": "code",
      "execution_count": 4,
      "metadata": {
        "id": "BO1-eNIvIKnA"
      },
      "outputs": [],
      "source": [
        "def naive_add(x, y):\n",
        "    assert len(x.shape) == 2\n",
        "    assert x.shape == y.shape\n",
        "    x = x.copy()\n",
        "    for i in range(x.shape[0]):\n",
        "        for j in range(x.shape[1]):\n",
        "            x[i, j] += y[i, j]\n",
        "    return x"
      ]
    },
    {
      "cell_type": "code",
      "execution_count": 5,
      "metadata": {
        "id": "6Dgq0YwDIKnB",
        "outputId": "075ac231-aa16-484f-854f-8209ebd4c6ed",
        "colab": {
          "base_uri": "https://localhost:8080/"
        }
      },
      "outputs": [
        {
          "output_type": "stream",
          "name": "stdout",
          "text": [
            "Took: 0.01 s\n"
          ]
        }
      ],
      "source": [
        "import time\n",
        "\n",
        "x = np.random.random((20, 100))\n",
        "y = np.random.random((20, 100))\n",
        "\n",
        "t0 = time.time()\n",
        "for _ in range(1000):\n",
        "    z = x + y\n",
        "    z = np.maximum(z, 0.)\n",
        "print(\"Took: {0:.2f} s\".format(time.time() - t0))"
      ]
    },
    {
      "cell_type": "code",
      "execution_count": 6,
      "metadata": {
        "id": "7K-A8sDVIKnB",
        "outputId": "079f0331-dbe1-46e5-b9ea-00ee449c0232",
        "colab": {
          "base_uri": "https://localhost:8080/"
        }
      },
      "outputs": [
        {
          "output_type": "stream",
          "name": "stdout",
          "text": [
            "Took: 2.22 s\n"
          ]
        }
      ],
      "source": [
        "t0 = time.time()\n",
        "for _ in range(1000):\n",
        "    z = naive_add(x, y)\n",
        "    z = naive_relu(z)\n",
        "print(\"Took: {0:.2f} s\".format(time.time() - t0))"
      ]
    },
    {
      "cell_type": "markdown",
      "metadata": {
        "id": "l4bdCmekIKnB"
      },
      "source": [
        "### Broadcasting"
      ]
    },
    {
      "cell_type": "code",
      "execution_count": null,
      "metadata": {
        "id": "BkCVpKcgIKnC"
      },
      "outputs": [],
      "source": [
        "import numpy as np\n",
        "X = np.random.random((32, 10))\n",
        "y = np.random.random((10,))"
      ]
    },
    {
      "cell_type": "code",
      "source": [
        "x = np.array([1,2,3,4,5])\n",
        "y = np.array([[1,1,1,1,1], [1,1,1,1,1]])"
      ],
      "metadata": {
        "id": "cVbmFDVGMP23"
      },
      "execution_count": 7,
      "outputs": []
    },
    {
      "cell_type": "code",
      "source": [
        "x.shape"
      ],
      "metadata": {
        "id": "ahET7qeyMZbV",
        "outputId": "3b605642-9010-403e-d519-9b63a6634672",
        "colab": {
          "base_uri": "https://localhost:8080/"
        }
      },
      "execution_count": 9,
      "outputs": [
        {
          "output_type": "execute_result",
          "data": {
            "text/plain": [
              "(5,)"
            ]
          },
          "metadata": {},
          "execution_count": 9
        }
      ]
    },
    {
      "cell_type": "code",
      "source": [
        "y.shape"
      ],
      "metadata": {
        "id": "m6qpJdesMcQF",
        "outputId": "70ca70c2-e6c5-4182-a28b-557d2bcb9571",
        "colab": {
          "base_uri": "https://localhost:8080/"
        }
      },
      "execution_count": 10,
      "outputs": [
        {
          "output_type": "execute_result",
          "data": {
            "text/plain": [
              "(2, 5)"
            ]
          },
          "metadata": {},
          "execution_count": 10
        }
      ]
    },
    {
      "cell_type": "code",
      "source": [
        "x+y"
      ],
      "metadata": {
        "id": "FUMKaRB8Mb82",
        "outputId": "9f6bde66-3055-482b-8914-abdf5d49a376",
        "colab": {
          "base_uri": "https://localhost:8080/"
        }
      },
      "execution_count": 11,
      "outputs": [
        {
          "output_type": "execute_result",
          "data": {
            "text/plain": [
              "array([[2, 3, 4, 5, 6],\n",
              "       [2, 3, 4, 5, 6]])"
            ]
          },
          "metadata": {},
          "execution_count": 11
        }
      ]
    },
    {
      "cell_type": "code",
      "execution_count": 12,
      "metadata": {
        "id": "w__QgXqeIKnC"
      },
      "outputs": [],
      "source": [
        "y = np.expand_dims(y, axis=0)"
      ]
    },
    {
      "cell_type": "code",
      "execution_count": 13,
      "metadata": {
        "id": "3nK7RpOAIKnD"
      },
      "outputs": [],
      "source": [
        "Y = np.concatenate([y] * 32, axis=0)"
      ]
    },
    {
      "cell_type": "code",
      "execution_count": 14,
      "metadata": {
        "id": "W92xKtxxIKnD"
      },
      "outputs": [],
      "source": [
        "def naive_add_matrix_and_vector(x, y):\n",
        "    assert len(x.shape) == 2\n",
        "    assert len(y.shape) == 1\n",
        "    assert x.shape[1] == y.shape[0]\n",
        "    x = x.copy()\n",
        "    for i in range(x.shape[0]):\n",
        "        for j in range(x.shape[1]):\n",
        "            x[i, j] += y[j]\n",
        "    return x"
      ]
    },
    {
      "cell_type": "code",
      "execution_count": 22,
      "metadata": {
        "colab": {
          "base_uri": "https://localhost:8080/"
        },
        "id": "O9tD4dmrIKnE",
        "outputId": "ba278c5d-18e1-48ee-bc24-29d0346e47f6"
      },
      "outputs": [
        {
          "output_type": "execute_result",
          "data": {
            "text/plain": [
              "(64, 3, 32, 10)"
            ]
          },
          "metadata": {},
          "execution_count": 22
        }
      ],
      "source": [
        "import numpy as np\n",
        "x = np.random.random((64, 3, 32, 10))\n",
        "y = np.random.random((32, 10))\n",
        "z = np.maximum(x, y)\n",
        "z.shape"
      ]
    },
    {
      "cell_type": "code",
      "execution_count": 24,
      "metadata": {
        "outputId": "3f24acb9-2d96-44c8-87a8-3837bc077695",
        "colab": {
          "base_uri": "https://localhost:8080/"
        },
        "id": "EjFuB9WBOF8F"
      },
      "outputs": [
        {
          "output_type": "execute_result",
          "data": {
            "text/plain": [
              "(15, 24, 5, 7, 8)"
            ]
          },
          "metadata": {},
          "execution_count": 24
        }
      ],
      "source": [
        "import numpy as np\n",
        "x = np.random.random((5,7,8))\n",
        "y = np.random.random((15,24,5,7,8))\n",
        "z = np.maximum(x, y)\n",
        "z.shape"
      ]
    },
    {
      "cell_type": "markdown",
      "metadata": {
        "id": "65arzcFVIKnE"
      },
      "source": [
        "### Tensor product"
      ]
    },
    {
      "cell_type": "code",
      "execution_count": 16,
      "metadata": {
        "id": "U6bIhQipIKnF"
      },
      "outputs": [],
      "source": [
        "x = np.random.random((32,))\n",
        "y = np.random.random((32,))\n",
        "z = np.dot(x, y)"
      ]
    },
    {
      "cell_type": "code",
      "execution_count": null,
      "metadata": {
        "id": "EvfJU1Y_IKnF"
      },
      "outputs": [],
      "source": [
        "def naive_vector_dot(x, y):\n",
        "    assert len(x.shape) == 1\n",
        "    assert len(y.shape) == 1\n",
        "    assert x.shape[0] == y.shape[0]\n",
        "    z = 0.\n",
        "    for i in range(x.shape[0]):\n",
        "        z += x[i] * y[i]\n",
        "    return z"
      ]
    },
    {
      "cell_type": "code",
      "execution_count": null,
      "metadata": {
        "id": "wEAeFtz-IKnF"
      },
      "outputs": [],
      "source": [
        "def naive_matrix_vector_dot(x, y):\n",
        "    assert len(x.shape) == 2\n",
        "    assert len(y.shape) == 1\n",
        "    assert x.shape[1] == y.shape[0]\n",
        "    z = np.zeros(x.shape[0])\n",
        "    for i in range(x.shape[0]):\n",
        "        for j in range(x.shape[1]):\n",
        "            z[i] += x[i, j] * y[j]\n",
        "    return z"
      ]
    },
    {
      "cell_type": "code",
      "execution_count": null,
      "metadata": {
        "id": "JNY78-wyIKnG"
      },
      "outputs": [],
      "source": [
        "def naive_matrix_vector_dot(x, y):\n",
        "    z = np.zeros(x.shape[0])\n",
        "    for i in range(x.shape[0]):\n",
        "        z[i] = naive_vector_dot(x[i, :], y)\n",
        "    return z"
      ]
    },
    {
      "cell_type": "code",
      "execution_count": null,
      "metadata": {
        "id": "qtVhBBOfIKnG"
      },
      "outputs": [],
      "source": [
        "def naive_matrix_dot(x, y):\n",
        "    assert len(x.shape) == 2\n",
        "    assert len(y.shape) == 2\n",
        "    assert x.shape[1] == y.shape[0]\n",
        "    z = np.zeros((x.shape[0], y.shape[1]))\n",
        "    for i in range(x.shape[0]):\n",
        "        for j in range(y.shape[1]):\n",
        "            row_x = x[i, :]\n",
        "            column_y = y[:, j]\n",
        "            z[i, j] = naive_vector_dot(row_x, column_y)\n",
        "    return z"
      ]
    },
    {
      "cell_type": "markdown",
      "metadata": {
        "id": "oVihXtpQIKnH"
      },
      "source": [
        "### Tensor reshaping"
      ]
    },
    {
      "cell_type": "code",
      "execution_count": 44,
      "metadata": {
        "id": "o5n2w-5iIKnH"
      },
      "outputs": [],
      "source": [
        "train_images = train_images.reshape((60000, 28 * 28))"
      ]
    },
    {
      "cell_type": "code",
      "source": [
        "train_images.shape"
      ],
      "metadata": {
        "id": "2mm7aWN9NEVS",
        "outputId": "9b8f305b-af0a-4a94-f2e1-2317944574ac",
        "colab": {
          "base_uri": "https://localhost:8080/"
        }
      },
      "execution_count": 45,
      "outputs": [
        {
          "output_type": "execute_result",
          "data": {
            "text/plain": [
              "(60000, 784)"
            ]
          },
          "metadata": {},
          "execution_count": 45
        }
      ]
    },
    {
      "cell_type": "code",
      "execution_count": null,
      "metadata": {
        "id": "OvgAqbZEIKnH"
      },
      "outputs": [],
      "source": [
        "x = np.array([[0., 1.],\n",
        "             [2., 3.],\n",
        "             [4., 5.]])\n",
        "x.shape"
      ]
    },
    {
      "cell_type": "code",
      "execution_count": 19,
      "metadata": {
        "id": "sLLROYJxIKnI",
        "outputId": "65607da4-484a-46a7-9997-ae7ce50bd6a1",
        "colab": {
          "base_uri": "https://localhost:8080/"
        }
      },
      "outputs": [
        {
          "output_type": "execute_result",
          "data": {
            "text/plain": [
              "array([[0.],\n",
              "       [1.],\n",
              "       [2.],\n",
              "       [3.],\n",
              "       [4.],\n",
              "       [5.]])"
            ]
          },
          "metadata": {},
          "execution_count": 19
        }
      ],
      "source": [
        "x = x.reshape((6, 1))\n",
        "x"
      ]
    },
    {
      "cell_type": "code",
      "source": [
        "x = x.reshape((2, 3))\n",
        "x"
      ],
      "metadata": {
        "id": "Z8k-RzNmOik3",
        "outputId": "b70e736a-210d-4b63-8ec7-12eeacfe03d6",
        "colab": {
          "base_uri": "https://localhost:8080/"
        }
      },
      "execution_count": 27,
      "outputs": [
        {
          "output_type": "execute_result",
          "data": {
            "text/plain": [
              "array([[0., 1., 2.],\n",
              "       [3., 4., 5.]])"
            ]
          },
          "metadata": {},
          "execution_count": 27
        }
      ]
    },
    {
      "cell_type": "code",
      "execution_count": null,
      "metadata": {
        "id": "AKWsBXB2IKnI"
      },
      "outputs": [],
      "source": [
        "x = np.zeros((300, 20))\n",
        "x = np.transpose(x)\n",
        "x.shape"
      ]
    },
    {
      "cell_type": "markdown",
      "metadata": {
        "id": "kAh1D7tJIKnI"
      },
      "source": [
        "### Geometric interpretation of tensor operations"
      ]
    },
    {
      "cell_type": "markdown",
      "metadata": {
        "id": "_i2JCkQnIKnI"
      },
      "source": [
        "### A geometric interpretation of deep learning"
      ]
    },
    {
      "cell_type": "markdown",
      "metadata": {
        "id": "fOQc4ncVIKnJ"
      },
      "source": [
        "## The engine of neural networks: gradient-based optimization"
      ]
    },
    {
      "cell_type": "markdown",
      "metadata": {
        "id": "w8qToMSzIKnJ"
      },
      "source": [
        "### What's a derivative?"
      ]
    },
    {
      "cell_type": "markdown",
      "metadata": {
        "id": "pNPsJSnKIKnJ"
      },
      "source": [
        "### Derivative of a tensor operation: the gradient"
      ]
    },
    {
      "cell_type": "markdown",
      "metadata": {
        "id": "ctAYp6Z9IKnK"
      },
      "source": [
        "### Stochastic gradient descent"
      ]
    },
    {
      "cell_type": "markdown",
      "metadata": {
        "id": "xM__j9ZwIKnK"
      },
      "source": [
        "### Chaining derivatives: The Backpropagation algorithm"
      ]
    },
    {
      "cell_type": "markdown",
      "metadata": {
        "id": "UEhsosq1IKnK"
      },
      "source": [
        "#### The chain rule"
      ]
    },
    {
      "cell_type": "markdown",
      "metadata": {
        "id": "IuEQO5PQIKnK"
      },
      "source": [
        "#### Automatic differentiation with computation graphs"
      ]
    },
    {
      "cell_type": "markdown",
      "metadata": {
        "id": "OComCgMOIKnK"
      },
      "source": [
        "#### The gradient tape in TensorFlow"
      ]
    },
    {
      "cell_type": "code",
      "execution_count": 28,
      "metadata": {
        "id": "PTztjz2bIKnL"
      },
      "outputs": [],
      "source": [
        "import tensorflow as tf\n",
        "x = tf.Variable(0.)\n",
        "with tf.GradientTape() as tape:\n",
        "    y = 2 * x + 3\n",
        "grad_of_y_wrt_x = tape.gradient(y, x)\n",
        "\n"
      ]
    },
    {
      "cell_type": "code",
      "source": [
        "import tensorflow as tf\n",
        "x = tf.Variable(2.)\n",
        "y = tf.Variable(1.)\n",
        "with tf.GradientTape() as tape:\n",
        "    z = x*x*y + x*y + 3*y\n",
        "grad_of_y_wrt_x = tape.gradient(z,[y, x])\n"
      ],
      "metadata": {
        "id": "y5qgXauMSSa1"
      },
      "execution_count": 39,
      "outputs": []
    },
    {
      "cell_type": "code",
      "source": [
        "grad_of_y_wrt_x"
      ],
      "metadata": {
        "id": "i-M7HwupSdN0",
        "outputId": "34cddf6d-56cb-48c3-a3e5-00ab2f8c3f14",
        "colab": {
          "base_uri": "https://localhost:8080/"
        }
      },
      "execution_count": 40,
      "outputs": [
        {
          "output_type": "execute_result",
          "data": {
            "text/plain": [
              "[<tf.Tensor: shape=(), dtype=float32, numpy=9.0>,\n",
              " <tf.Tensor: shape=(), dtype=float32, numpy=5.0>]"
            ]
          },
          "metadata": {},
          "execution_count": 40
        }
      ]
    },
    {
      "cell_type": "code",
      "source": [
        "import tensorflow as tf\n",
        "x = tf.Variable(0.)\n",
        "with tf.GradientTape() as tape:\n",
        "    y = 2 * x + 3\n",
        "grad_of_y_wrt_x = tape.gradient(y, x)\n"
      ],
      "metadata": {
        "id": "0gyU1MZtSRye"
      },
      "execution_count": null,
      "outputs": []
    },
    {
      "cell_type": "code",
      "source": [
        "grad_of_y_wrt_x"
      ],
      "metadata": {
        "id": "mTTAWkNrQihg",
        "outputId": "2d58b32a-f6ba-494c-d00c-0dbe470dbc24",
        "colab": {
          "base_uri": "https://localhost:8080/"
        }
      },
      "execution_count": 29,
      "outputs": [
        {
          "output_type": "execute_result",
          "data": {
            "text/plain": [
              "<tf.Tensor: shape=(), dtype=float32, numpy=2.0>"
            ]
          },
          "metadata": {},
          "execution_count": 29
        }
      ]
    },
    {
      "cell_type": "code",
      "execution_count": 48,
      "metadata": {
        "id": "VggD79e3IKnL"
      },
      "outputs": [],
      "source": [
        "x = tf.Variable(tf.random.uniform((2, 2)))\n",
        "with tf.GradientTape() as tape:\n",
        "    y = 2 * x + 3\n",
        "grad_of_y_wrt_x = tape.gradient(y, x)"
      ]
    },
    {
      "cell_type": "code",
      "execution_count": 49,
      "metadata": {
        "id": "h_g5oWEjIKnL"
      },
      "outputs": [],
      "source": [
        "W = tf.Variable(tf.random.uniform((2, 2)))\n",
        "b = tf.Variable(tf.zeros((2,)))\n",
        "x = tf.random.uniform((2, 2))\n",
        "with tf.GradientTape() as tape:\n",
        "    y = tf.matmul(x, W) + b\n",
        "grad_of_y_wrt_W_and_b = tape.gradient(y, [W, b])"
      ]
    },
    {
      "cell_type": "code",
      "source": [
        "x=tf.constant(np.array([1.,4.,3.]).reshape(1,3),dtype=tf.float32)\n",
        "W=tf.Variable(tf.random.uniform((3,2)),dtype=tf.float32)\n",
        "b=tf.Variable(tf.zeros((2,)),dtype=tf.float32)\n",
        "with tf.GradientTape() as tape:\n",
        "    y = tf.matmul(x, W) + b\n",
        "grad_of_y_wrt_W_and_b = tape.gradient(y, [W, b])"
      ],
      "metadata": {
        "id": "z9ZhKWE6RDiV"
      },
      "execution_count": 31,
      "outputs": []
    },
    {
      "cell_type": "markdown",
      "source": [],
      "metadata": {
        "id": "E7SJ8zVuRHDy"
      }
    },
    {
      "cell_type": "markdown",
      "metadata": {
        "id": "vfgJtZNPIKnL"
      },
      "source": [
        "## Looking back at our first example"
      ]
    },
    {
      "cell_type": "code",
      "execution_count": 46,
      "metadata": {
        "id": "_KVt92HVIKnM"
      },
      "outputs": [],
      "source": [
        "(train_images, train_labels), (test_images, test_labels) = mnist.load_data()\n",
        "train_images = train_images.reshape((60000, 28 * 28))\n",
        "train_images = train_images.astype(\"float32\") / 255\n",
        "test_images = test_images.reshape((10000, 28 * 28))\n",
        "test_images = test_images.astype(\"float32\") / 255"
      ]
    },
    {
      "cell_type": "code",
      "execution_count": 51,
      "metadata": {
        "id": "trTgijAeIKnM"
      },
      "outputs": [],
      "source": [
        "model = keras.Sequential([\n",
        "    layers.Dense(512, activation=\"relu\"),\n",
        "    layers.Dense(10, activation=\"softmax\")\n",
        "])"
      ]
    },
    {
      "cell_type": "code",
      "execution_count": 52,
      "metadata": {
        "id": "kNn0TR0hIKnM"
      },
      "outputs": [],
      "source": [
        "model.compile(optimizer=\"rmsprop\",\n",
        "              loss=\"sparse_categorical_crossentropy\",\n",
        "              metrics=[\"accuracy\"])"
      ]
    },
    {
      "cell_type": "code",
      "execution_count": 53,
      "metadata": {
        "id": "nkpZEiAKIKnM",
        "outputId": "d0d74ebf-69ef-4272-cff8-ee27fe349d1c",
        "colab": {
          "base_uri": "https://localhost:8080/"
        }
      },
      "outputs": [
        {
          "output_type": "stream",
          "name": "stdout",
          "text": [
            "Epoch 1/5\n",
            "469/469 [==============================] - 3s 3ms/step - loss: 0.2665 - accuracy: 0.9245\n",
            "Epoch 2/5\n",
            "469/469 [==============================] - 1s 3ms/step - loss: 0.1087 - accuracy: 0.9680\n",
            "Epoch 3/5\n",
            "469/469 [==============================] - 2s 4ms/step - loss: 0.0716 - accuracy: 0.9783\n",
            "Epoch 4/5\n",
            "469/469 [==============================] - 1s 3ms/step - loss: 0.0521 - accuracy: 0.9844\n",
            "Epoch 5/5\n",
            "469/469 [==============================] - 1s 3ms/step - loss: 0.0384 - accuracy: 0.9888\n"
          ]
        },
        {
          "output_type": "execute_result",
          "data": {
            "text/plain": [
              "<keras.src.callbacks.History at 0x790d004f8d60>"
            ]
          },
          "metadata": {},
          "execution_count": 53
        }
      ],
      "source": [
        "model.fit(train_images, train_labels, epochs=5, batch_size=128)"
      ]
    },
    {
      "cell_type": "markdown",
      "metadata": {
        "id": "bN4fVAglIKnM"
      },
      "source": [
        "### Reimplementing our first example from scratch in TensorFlow"
      ]
    },
    {
      "cell_type": "markdown",
      "metadata": {
        "id": "AgIwKjKFIKnN"
      },
      "source": [
        "#### A simple Dense class"
      ]
    },
    {
      "cell_type": "code",
      "execution_count": 54,
      "metadata": {
        "id": "f1v5walTIKnN"
      },
      "outputs": [],
      "source": [
        "import tensorflow as tf\n",
        "\n",
        "class NaiveDense:\n",
        "    def __init__(self, input_size, output_size, activation):\n",
        "        self.activation = activation\n",
        "\n",
        "        w_shape = (input_size, output_size)\n",
        "        w_initial_value = tf.random.uniform(w_shape, minval=0, maxval=1e-1)\n",
        "        self.W = tf.Variable(w_initial_value)\n",
        "\n",
        "        b_shape = (output_size,)\n",
        "        b_initial_value = tf.zeros(b_shape)\n",
        "        self.b = tf.Variable(b_initial_value)\n",
        "\n",
        "    def __call__(self, inputs):\n",
        "        return self.activation(tf.matmul(inputs, self.W) + self.b)\n",
        "\n",
        "    @property\n",
        "    def weights(self):\n",
        "        return [self.W, self.b]"
      ]
    },
    {
      "cell_type": "markdown",
      "metadata": {
        "id": "YTycm0OiIKnN"
      },
      "source": [
        "#### A simple Sequential class"
      ]
    },
    {
      "cell_type": "code",
      "execution_count": 55,
      "metadata": {
        "id": "Z-5JKVd6IKnN"
      },
      "outputs": [],
      "source": [
        "class NaiveSequential:\n",
        "    def __init__(self, layers):\n",
        "        self.layers = layers\n",
        "\n",
        "    def __call__(self, inputs):\n",
        "        x = inputs\n",
        "        for layer in self.layers:\n",
        "           x = layer(x)\n",
        "        return x\n",
        "\n",
        "    @property\n",
        "    def weights(self):\n",
        "       weights = []\n",
        "       for layer in self.layers:\n",
        "           weights += layer.weights\n",
        "       return weights"
      ]
    },
    {
      "cell_type": "code",
      "execution_count": 56,
      "metadata": {
        "id": "QOYXzdZMIKnN"
      },
      "outputs": [],
      "source": [
        "model = NaiveSequential([\n",
        "    NaiveDense(input_size=28 * 28, output_size=512, activation=tf.nn.relu),\n",
        "    NaiveDense(input_size=512, output_size=10, activation=tf.nn.softmax)\n",
        "])\n",
        "assert len(model.weights) == 4"
      ]
    },
    {
      "cell_type": "markdown",
      "metadata": {
        "id": "EVi3OtGrIKnO"
      },
      "source": [
        "#### A batch generator"
      ]
    },
    {
      "cell_type": "code",
      "execution_count": 57,
      "metadata": {
        "id": "J000hJIYIKnO"
      },
      "outputs": [],
      "source": [
        "import math\n",
        "\n",
        "class BatchGenerator:\n",
        "    def __init__(self, images, labels, batch_size=128):\n",
        "        assert len(images) == len(labels)\n",
        "        self.index = 0\n",
        "        self.images = images\n",
        "        self.labels = labels\n",
        "        self.batch_size = batch_size\n",
        "        self.num_batches = math.ceil(len(images) / batch_size)\n",
        "\n",
        "    def next(self):\n",
        "        images = self.images[self.index : self.index + self.batch_size]\n",
        "        labels = self.labels[self.index : self.index + self.batch_size]\n",
        "        self.index += self.batch_size\n",
        "        return images, labels"
      ]
    },
    {
      "cell_type": "markdown",
      "metadata": {
        "id": "lAF12SwXIKnO"
      },
      "source": [
        "### Running one training step"
      ]
    },
    {
      "cell_type": "code",
      "execution_count": 60,
      "metadata": {
        "id": "yc_0mehVIKnO"
      },
      "outputs": [],
      "source": [
        "def one_training_step(model, images_batch, labels_batch):\n",
        "    with tf.GradientTape() as tape:\n",
        "        predictions = model(images_batch)\n",
        "        per_sample_losses = tf.keras.losses.sparse_categorical_crossentropy(\n",
        "            labels_batch, predictions)\n",
        "        average_loss = tf.reduce_mean(per_sample_losses)\n",
        "    gradients = tape.gradient(average_loss, model.weights)\n",
        "    update_weights(gradients, model.weights)\n",
        "    return average_loss"
      ]
    },
    {
      "cell_type": "code",
      "execution_count": 61,
      "metadata": {
        "id": "bMvmUTQGIKnQ"
      },
      "outputs": [],
      "source": [
        "learning_rate = 1e-3\n",
        "\n",
        "def update_weights(gradients, weights):\n",
        "    for g, w in zip(gradients, weights):\n",
        "        w.assign_sub(g * learning_rate)"
      ]
    },
    {
      "cell_type": "code",
      "execution_count": 62,
      "metadata": {
        "id": "sDdVwn4zIKnR"
      },
      "outputs": [],
      "source": [
        "from tensorflow.keras import optimizers\n",
        "\n",
        "optimizer = optimizers.SGD(learning_rate=1e-3)\n",
        "\n",
        "def update_weights(gradients, weights):\n",
        "    optimizer.apply_gradients(zip(gradients, weights))"
      ]
    },
    {
      "cell_type": "markdown",
      "metadata": {
        "id": "ETDHh1fDIKnR"
      },
      "source": [
        "### The full training loop"
      ]
    },
    {
      "cell_type": "code",
      "execution_count": 58,
      "metadata": {
        "id": "j6qwOzLFIKnS"
      },
      "outputs": [],
      "source": [
        "def fit(model, images, labels, epochs, batch_size=128):\n",
        "    for epoch_counter in range(epochs):\n",
        "        print(f\"Epoch {epoch_counter}\")\n",
        "        batch_generator = BatchGenerator(images, labels)\n",
        "        for batch_counter in range(batch_generator.num_batches):\n",
        "            images_batch, labels_batch = batch_generator.next()\n",
        "            loss = one_training_step(model, images_batch, labels_batch)\n",
        "            if batch_counter % 100 == 0:\n",
        "                print(f\"loss at batch {batch_counter}: {loss:.2f}\")"
      ]
    },
    {
      "cell_type": "code",
      "execution_count": 63,
      "metadata": {
        "id": "n-XlsXQYIKnS",
        "outputId": "e9e6f639-fff2-4bb8-a31c-44b0d759713b",
        "colab": {
          "base_uri": "https://localhost:8080/"
        }
      },
      "outputs": [
        {
          "output_type": "stream",
          "name": "stdout",
          "text": [
            "Epoch 0\n",
            "loss at batch 0: 4.34\n",
            "loss at batch 100: 2.25\n",
            "loss at batch 200: 2.24\n",
            "loss at batch 300: 2.12\n",
            "loss at batch 400: 2.22\n",
            "Epoch 1\n",
            "loss at batch 0: 1.93\n",
            "loss at batch 100: 1.88\n",
            "loss at batch 200: 1.86\n",
            "loss at batch 300: 1.74\n",
            "loss at batch 400: 1.81\n",
            "Epoch 2\n",
            "loss at batch 0: 1.61\n",
            "loss at batch 100: 1.59\n",
            "loss at batch 200: 1.53\n",
            "loss at batch 300: 1.45\n",
            "loss at batch 400: 1.50\n",
            "Epoch 3\n",
            "loss at batch 0: 1.35\n",
            "loss at batch 100: 1.35\n",
            "loss at batch 200: 1.26\n",
            "loss at batch 300: 1.23\n",
            "loss at batch 400: 1.26\n",
            "Epoch 4\n",
            "loss at batch 0: 1.15\n",
            "loss at batch 100: 1.16\n",
            "loss at batch 200: 1.06\n",
            "loss at batch 300: 1.06\n",
            "loss at batch 400: 1.10\n",
            "Epoch 5\n",
            "loss at batch 0: 1.00\n",
            "loss at batch 100: 1.02\n",
            "loss at batch 200: 0.92\n",
            "loss at batch 300: 0.94\n",
            "loss at batch 400: 0.98\n",
            "Epoch 6\n",
            "loss at batch 0: 0.89\n",
            "loss at batch 100: 0.91\n",
            "loss at batch 200: 0.82\n",
            "loss at batch 300: 0.85\n",
            "loss at batch 400: 0.89\n",
            "Epoch 7\n",
            "loss at batch 0: 0.80\n",
            "loss at batch 100: 0.83\n",
            "loss at batch 200: 0.74\n",
            "loss at batch 300: 0.78\n",
            "loss at batch 400: 0.82\n",
            "Epoch 8\n",
            "loss at batch 0: 0.73\n",
            "loss at batch 100: 0.76\n",
            "loss at batch 200: 0.67\n",
            "loss at batch 300: 0.72\n",
            "loss at batch 400: 0.77\n",
            "Epoch 9\n",
            "loss at batch 0: 0.68\n",
            "loss at batch 100: 0.70\n",
            "loss at batch 200: 0.62\n",
            "loss at batch 300: 0.67\n",
            "loss at batch 400: 0.73\n"
          ]
        }
      ],
      "source": [
        "from tensorflow.keras.datasets import mnist\n",
        "(train_images, train_labels), (test_images, test_labels) = mnist.load_data()\n",
        "\n",
        "train_images = train_images.reshape((60000, 28 * 28))\n",
        "train_images = train_images.astype(\"float32\") / 255\n",
        "test_images = test_images.reshape((10000, 28 * 28))\n",
        "test_images = test_images.astype(\"float32\") / 255\n",
        "\n",
        "fit(model, train_images, train_labels, epochs=10, batch_size=128)"
      ]
    },
    {
      "cell_type": "markdown",
      "metadata": {
        "id": "w1tT-a6rIKnS"
      },
      "source": [
        "### Evaluating the model"
      ]
    },
    {
      "cell_type": "code",
      "source": [
        "model.weights"
      ],
      "metadata": {
        "id": "cxkQEzoxZQ-1",
        "outputId": "08c46c22-9736-4fa1-c4a8-d2d542856a88",
        "colab": {
          "base_uri": "https://localhost:8080/"
        }
      },
      "execution_count": 66,
      "outputs": [
        {
          "output_type": "execute_result",
          "data": {
            "text/plain": [
              "[<tf.Variable 'Variable:0' shape=(784, 512) dtype=float32, numpy=\n",
              " array([[0.0359174 , 0.05253106, 0.04380817, ..., 0.03105987, 0.05958239,\n",
              "         0.00190096],\n",
              "        [0.02394421, 0.08183086, 0.08219882, ..., 0.05555413, 0.0927792 ,\n",
              "         0.0907798 ],\n",
              "        [0.09710749, 0.06828798, 0.01144906, ..., 0.0174256 , 0.06490842,\n",
              "         0.04017425],\n",
              "        ...,\n",
              "        [0.04390017, 0.02836759, 0.03170805, ..., 0.04892182, 0.08795848,\n",
              "         0.08213063],\n",
              "        [0.08479033, 0.02438696, 0.09202167, ..., 0.03178294, 0.07447072,\n",
              "         0.07585515],\n",
              "        [0.0171114 , 0.00285083, 0.01094308, ..., 0.0424623 , 0.03204561,\n",
              "         0.03122278]], dtype=float32)>,\n",
              " <tf.Variable 'Variable:0' shape=(512,) dtype=float32, numpy=\n",
              " array([ 7.06412684e-05, -6.69896789e-03,  4.77137743e-04, -3.76185984e-04,\n",
              "        -5.87050477e-03,  4.87756776e-03, -2.67041987e-03, -9.05837212e-03,\n",
              "         9.53262486e-03,  3.65272351e-03, -5.60432200e-05, -8.91855219e-04,\n",
              "         9.66580957e-03, -2.15650580e-04, -4.41098120e-03, -2.27619358e-03,\n",
              "         6.95831026e-04, -6.57161605e-03, -1.10324216e-03,  4.80991136e-03,\n",
              "        -3.49297491e-03,  6.82012597e-03, -2.25976645e-03,  7.06279278e-03,\n",
              "        -2.17729990e-04, -5.80693781e-03,  3.68676917e-03, -6.92923414e-03,\n",
              "         2.02334253e-04,  2.45794444e-03, -3.40186729e-04,  3.32692452e-03,\n",
              "        -8.61046836e-04,  1.84909650e-03, -3.55387176e-03,  7.23652216e-03,\n",
              "        -4.00784833e-04,  3.75640159e-03, -4.14968672e-05, -5.76724438e-03,\n",
              "         2.26016110e-03, -2.05110100e-05,  3.29795945e-03, -1.89432743e-04,\n",
              "        -2.71267025e-03, -6.93630660e-03,  6.65587233e-03,  4.15119482e-03,\n",
              "         1.91418373e-03, -5.06422110e-03, -1.07926189e-03,  1.89464772e-03,\n",
              "         3.12068523e-03,  1.68391736e-03, -7.77022156e-04,  1.91420957e-03,\n",
              "         9.60481167e-03,  9.34256520e-03,  5.45432791e-03, -1.10199733e-03,\n",
              "        -2.59990059e-03, -4.41603037e-03, -2.45294836e-03,  6.82619866e-03,\n",
              "         7.17033911e-03,  2.92266603e-03, -3.61892115e-03, -3.85208102e-03,\n",
              "         1.03767612e-03, -6.01882697e-04, -3.51482327e-03,  5.85704576e-04,\n",
              "        -5.26216999e-03,  1.11962308e-03,  6.42385148e-03,  2.47119996e-03,\n",
              "        -7.09653972e-03, -3.89701920e-04,  2.75027426e-03,  1.59154210e-04,\n",
              "         7.36829080e-03,  5.69086929e-04, -1.58714960e-04,  1.65090954e-03,\n",
              "         3.67584522e-03,  1.18828216e-03, -6.18682988e-03,  3.09063587e-03,\n",
              "         3.05291894e-03, -6.00671209e-03,  1.61137665e-03, -1.00805303e-02,\n",
              "        -4.31382703e-03,  7.57260667e-03,  5.37632126e-03, -3.14812455e-03,\n",
              "        -5.35814185e-03,  9.85110644e-03, -4.31992253e-03,  1.15302170e-03,\n",
              "         7.81689957e-03,  5.40122297e-03,  1.07427512e-03, -4.93784109e-03,\n",
              "         1.44637143e-03, -1.98430661e-03, -7.04057238e-05, -1.24443963e-03,\n",
              "        -2.47325259e-03,  1.79722684e-03, -2.23942706e-03,  4.11801855e-04,\n",
              "         1.80547882e-03, -1.03124045e-03,  1.97209092e-03, -3.26772290e-03,\n",
              "        -8.50408245e-03,  1.97211700e-03,  7.39188690e-05, -3.78894038e-03,\n",
              "         3.82365333e-03, -3.63509171e-03, -3.27078183e-03,  5.93941566e-03,\n",
              "        -4.93153092e-03, -2.64156866e-03,  7.85409287e-03, -3.02314700e-04,\n",
              "        -1.83544552e-03, -3.78224230e-03, -8.73242563e-04,  5.81327407e-03,\n",
              "        -1.50117150e-03,  2.34530238e-03,  3.74806020e-03,  5.86370239e-03,\n",
              "        -8.09389725e-03,  1.34081591e-03, -2.74861953e-03, -7.07769627e-03,\n",
              "         4.40794835e-03,  8.48152209e-03,  1.48589548e-03,  2.99379649e-03,\n",
              "        -4.11585625e-03, -1.83301687e-04,  5.43743977e-03,  3.98593163e-03,\n",
              "        -6.95762318e-03,  6.73548505e-03, -1.04073407e-02, -6.84745656e-03,\n",
              "        -4.83840238e-03, -9.61812958e-03, -1.02465823e-02,  1.24192587e-03,\n",
              "        -2.56378273e-03,  1.24303950e-03,  5.94626041e-03,  5.56496717e-03,\n",
              "        -4.29293513e-03,  1.82352134e-03, -1.10381236e-02,  2.99181044e-03,\n",
              "         1.80492108e-03,  1.78560891e-04,  8.66206770e-04, -2.44217250e-03,\n",
              "        -1.84560998e-03, -2.81849876e-03,  6.30456302e-03, -2.46264320e-03,\n",
              "        -3.78730404e-03,  1.92825531e-03, -5.74135920e-03,  1.74022757e-03,\n",
              "        -1.05185965e-02,  1.00355048e-03,  4.76428494e-03, -2.60261400e-03,\n",
              "        -5.08125115e-04, -7.79137248e-03,  4.39735036e-03, -1.17217954e-02,\n",
              "        -5.95695851e-03,  1.66075979e-03,  3.09565873e-03, -1.61435001e-03,\n",
              "        -8.47687107e-03,  1.03454022e-02, -1.98222953e-03,  1.78483990e-03,\n",
              "         4.83977637e-05, -9.90075152e-03,  7.35829445e-03, -6.41772803e-03,\n",
              "        -7.55114423e-04, -4.68060048e-03, -3.26623931e-03, -5.69109991e-03,\n",
              "        -4.64367401e-03,  1.39648526e-03, -4.44223126e-03,  4.13748063e-03,\n",
              "         8.49409308e-03,  6.21261934e-05, -1.59041339e-03,  9.39230202e-04,\n",
              "         5.87112270e-03,  1.39191118e-03,  6.63842354e-03,  2.74222461e-04,\n",
              "         1.54623319e-03,  2.19338085e-03,  2.88146036e-03, -6.30507246e-03,\n",
              "         2.31174822e-03, -5.42509416e-03,  1.21409446e-03, -2.99065723e-03,\n",
              "        -4.10860358e-03,  4.17688442e-03, -3.25577264e-03,  8.57825857e-04,\n",
              "         1.30279211e-03, -7.54226930e-04,  3.15719843e-03, -8.17144942e-03,\n",
              "        -3.60696018e-03, -1.61811593e-03,  1.09983154e-03,  1.08798675e-03,\n",
              "        -9.13477968e-04,  3.89541965e-03, -8.08879826e-03,  2.63507827e-03,\n",
              "         5.39916893e-03, -8.96120619e-04, -2.00844463e-03, -9.08104144e-03,\n",
              "        -9.85211972e-03,  4.14491910e-03, -2.82670162e-03, -7.70191429e-03,\n",
              "        -3.61562800e-03, -7.35913403e-03, -2.43922858e-03,  4.19014925e-03,\n",
              "        -3.07846209e-03, -6.04719855e-04,  8.89568590e-03, -4.50539961e-03,\n",
              "        -1.27592427e-03,  3.37199122e-03, -1.78026001e-03, -7.84203119e-04,\n",
              "         1.38325794e-02,  6.97482610e-03, -1.22678163e-03, -6.33889809e-03,\n",
              "         1.20488508e-03, -6.08546427e-03, -2.70673656e-03, -3.48368683e-03,\n",
              "        -3.08573199e-03, -4.00972180e-03, -9.14382865e-04,  1.23801606e-03,\n",
              "         4.77420539e-03, -9.83013958e-03, -2.11018370e-03,  6.84937555e-03,\n",
              "         1.02369627e-03, -1.34674879e-03, -3.59638385e-03,  7.34287594e-03,\n",
              "        -6.15884271e-03,  1.99473836e-03, -3.49178514e-03, -1.36672566e-03,\n",
              "        -4.04788041e-03, -6.29819417e-03,  3.20873805e-04,  4.66157822e-03,\n",
              "        -3.47537105e-03,  8.30366276e-03, -4.25621169e-03, -3.08278482e-03,\n",
              "         3.42244690e-04,  7.49663683e-03,  6.45533251e-03, -9.61020961e-03,\n",
              "        -1.39245926e-03,  6.80007786e-03, -5.49679436e-03,  2.57212436e-03,\n",
              "        -2.57766526e-03, -2.19902417e-04,  6.23921165e-03, -3.45527125e-03,\n",
              "        -7.17187021e-03, -5.15286624e-03, -4.02676873e-03, -4.48379666e-03,\n",
              "        -2.63761659e-03,  1.09336665e-03,  7.16820452e-03, -7.38669280e-03,\n",
              "         5.10672014e-03, -2.75072554e-04,  2.68962496e-04,  4.51018941e-03,\n",
              "         1.32438366e-03,  5.40157268e-03,  1.91900344e-03, -1.22020801e-03,\n",
              "         8.28820339e-04, -3.74738453e-03, -5.24636079e-03,  8.29048827e-03,\n",
              "         5.51697286e-03, -3.04990914e-03,  3.11342039e-04,  4.43583028e-03,\n",
              "        -4.91956389e-03,  1.09322544e-03,  1.29192891e-02, -8.49317200e-03,\n",
              "         4.71637119e-03, -4.21402074e-04,  8.90270993e-03, -2.22593243e-03,\n",
              "        -4.22515301e-03,  4.37961984e-03,  3.97761445e-03, -6.10231538e-04,\n",
              "         2.56778533e-03,  9.04734526e-03,  2.43237917e-03, -3.41891544e-03,\n",
              "        -3.55095882e-03,  5.66901965e-03, -6.09353418e-03, -7.32568046e-03,\n",
              "         1.80203142e-03, -9.10316966e-03,  2.06091814e-03,  5.83627727e-03,\n",
              "         1.47066999e-03,  1.79912522e-03, -5.63245406e-03,  6.45417778e-04,\n",
              "        -2.72918050e-03,  3.90147814e-03,  6.51564542e-03, -2.09045014e-03,\n",
              "        -2.70998629e-04,  2.88250437e-03,  1.10080680e-02, -6.08365168e-04,\n",
              "        -6.02706848e-03, -3.79712204e-03,  2.36189971e-03,  2.06458895e-03,\n",
              "        -2.03616405e-03, -5.32958517e-03, -6.66934764e-03,  1.98018155e-03,\n",
              "         5.48460381e-03, -1.06114931e-02,  6.29271474e-03,  2.79939361e-03,\n",
              "        -2.14764406e-03, -3.14554409e-03,  3.41184181e-03,  1.41296128e-03,\n",
              "         6.39248872e-03, -5.05095627e-03, -7.59276655e-03,  7.02366699e-03,\n",
              "        -6.13010488e-03,  2.23194565e-05, -2.68418109e-03, -1.82948203e-03,\n",
              "         5.92623895e-04,  9.18948674e-04,  2.65189889e-03, -5.20727085e-03,\n",
              "        -3.65372840e-03,  1.01405161e-03,  3.41556617e-03, -7.44335586e-03,\n",
              "         6.51799724e-04,  1.75052008e-03, -9.36574675e-03, -9.32510477e-04,\n",
              "         3.12617165e-03,  7.15243863e-03,  1.18253529e-02, -6.95442501e-03,\n",
              "         1.10512180e-03, -1.11818279e-03, -4.55023081e-04,  3.12340027e-03,\n",
              "        -8.84789508e-03,  2.84193060e-03,  5.76525694e-03,  2.65138038e-03,\n",
              "         8.34162405e-04,  9.95838433e-04,  2.77289306e-03,  8.10234901e-03,\n",
              "        -1.03046698e-03,  1.39836140e-03,  1.89142209e-03, -5.84182143e-03,\n",
              "        -4.38531209e-03,  4.00753925e-03,  5.93737978e-03,  3.02140554e-03,\n",
              "         6.94303657e-04, -6.10973744e-04,  5.14626689e-03, -1.31407205e-03,\n",
              "        -2.34087510e-03,  2.62428960e-03,  1.47184823e-03, -7.53790198e-04,\n",
              "         6.48141745e-03, -1.75972097e-03,  2.81747850e-03, -4.62106103e-03,\n",
              "        -6.16317475e-03,  6.23696204e-03,  6.32569892e-03,  1.31169823e-03,\n",
              "        -3.55372648e-03, -6.84553245e-03,  8.27481505e-04, -1.22361968e-03,\n",
              "         1.06501149e-03, -5.38495509e-03, -1.00601488e-03,  2.35167309e-03,\n",
              "         2.31279433e-03, -1.17926886e-02, -5.90209244e-03,  6.44070050e-03,\n",
              "        -5.08535840e-03,  1.44501706e-03,  4.71065799e-03,  6.03369949e-03,\n",
              "         4.07368271e-03, -5.85831748e-03,  4.55276016e-03, -5.34750929e-04,\n",
              "        -1.45955756e-03,  4.80803987e-03, -4.24842350e-03, -9.77158081e-03,\n",
              "         1.93327304e-03, -5.40144974e-03, -3.37775936e-03, -3.44636827e-03,\n",
              "        -1.34640583e-03,  6.36973279e-03, -1.70481077e-03,  1.96806644e-03,\n",
              "         3.39945103e-03,  4.22420073e-03,  2.88078608e-03,  3.68848443e-04,\n",
              "         3.12589458e-03,  3.91196925e-03,  4.52374760e-03, -9.32234712e-03,\n",
              "        -9.89473797e-03,  2.37415894e-04, -8.43384943e-04,  1.51095935e-03,\n",
              "        -1.17578151e-04, -2.89027416e-03, -1.69630302e-03, -9.09092464e-03,\n",
              "         3.17112543e-03, -2.16432777e-03, -1.00127365e-02,  6.35659462e-03,\n",
              "         8.63229111e-03,  3.38552403e-04, -1.12324697e-03, -9.07977403e-04,\n",
              "        -3.14040226e-03,  3.62164737e-03,  1.95370731e-03,  6.60581794e-03,\n",
              "         1.88446924e-04,  6.34743320e-03,  5.71823213e-04, -8.04359373e-03,\n",
              "        -6.01728307e-03, -8.68014153e-03, -1.13658058e-02,  1.50287407e-03,\n",
              "        -3.25020798e-03,  1.39427511e-03, -6.93868892e-03,  2.00387882e-03,\n",
              "         2.20099604e-03, -8.37188493e-03, -6.72590826e-03,  1.30222877e-03],\n",
              "       dtype=float32)>,\n",
              " <tf.Variable 'Variable:0' shape=(512, 10) dtype=float32, numpy=\n",
              " array([[-2.39797793e-02,  5.52016012e-02,  9.82502773e-02, ...,\n",
              "          4.45020869e-02,  7.43212253e-02,  7.92470276e-02],\n",
              "        [ 6.64860457e-02, -1.31166596e-02,  1.13051884e-01, ...,\n",
              "          4.45048138e-02,  4.22865488e-02,  9.87651059e-04],\n",
              "        [-8.90722033e-03,  6.53589442e-02,  1.20861849e-04, ...,\n",
              "          7.74513334e-02,  9.59221572e-02,  9.52249989e-02],\n",
              "        ...,\n",
              "        [ 8.26009959e-02, -3.16667557e-02,  2.66292021e-02, ...,\n",
              "          3.06227468e-02,  1.19875684e-01,  7.57963359e-02],\n",
              "        [ 8.56390744e-02, -3.04438663e-03,  6.96551129e-02, ...,\n",
              "          6.04284294e-02,  4.41462845e-02,  5.76341571e-03],\n",
              "        [ 1.40574411e-01,  8.58444646e-02, -1.15225324e-02, ...,\n",
              "          2.28425954e-02,  4.35964167e-02,  2.39089187e-02]], dtype=float32)>,\n",
              " <tf.Variable 'Variable:0' shape=(10,) dtype=float32, numpy=\n",
              " array([-0.04517085,  0.10241488, -0.0308619 , -0.02340146,  0.01932124,\n",
              "         0.01567397, -0.01069216,  0.03209211, -0.06334896,  0.00397288],\n",
              "       dtype=float32)>]"
            ]
          },
          "metadata": {},
          "execution_count": 66
        }
      ]
    },
    {
      "cell_type": "code",
      "execution_count": 64,
      "metadata": {
        "id": "yQwyYnNaIKnT",
        "outputId": "1bfbc5b6-e98f-496e-d1f7-3d05bda2ca5b",
        "colab": {
          "base_uri": "https://localhost:8080/"
        }
      },
      "outputs": [
        {
          "output_type": "stream",
          "name": "stdout",
          "text": [
            "accuracy: 0.82\n"
          ]
        }
      ],
      "source": [
        "predictions = model(test_images)\n",
        "predictions = predictions.numpy()\n",
        "predicted_labels = np.argmax(predictions, axis=1)\n",
        "matches = predicted_labels == test_labels\n",
        "print(f\"accuracy: {matches.mean():.2f}\")"
      ]
    },
    {
      "cell_type": "markdown",
      "metadata": {
        "id": "twmb4XbCIKnT"
      },
      "source": [
        "## Summary"
      ]
    }
  ],
  "metadata": {
    "colab": {
      "name": "chapter02_mathematical-building-blocks.i",
      "provenance": [],
      "toc_visible": true,
      "gpuType": "T4"
    },
    "kernelspec": {
      "display_name": "Python 3",
      "name": "python3"
    },
    "language_info": {
      "codemirror_mode": {
        "name": "ipython",
        "version": 3
      },
      "file_extension": ".py",
      "mimetype": "text/x-python",
      "name": "python",
      "nbconvert_exporter": "python",
      "pygments_lexer": "ipython3",
      "version": "3.7.0"
    },
    "accelerator": "GPU"
  },
  "nbformat": 4,
  "nbformat_minor": 0
}